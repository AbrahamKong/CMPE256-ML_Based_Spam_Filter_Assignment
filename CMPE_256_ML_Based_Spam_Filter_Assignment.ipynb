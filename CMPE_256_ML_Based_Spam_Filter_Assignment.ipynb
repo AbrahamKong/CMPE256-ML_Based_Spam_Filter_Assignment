{
  "nbformat": 4,
  "nbformat_minor": 0,
  "metadata": {
    "colab": {
      "name": "CMPE 256 ML Based Spam Filter Assignment.ipynb",
      "provenance": [],
      "authorship_tag": "ABX9TyMOXhvD8b8osjYOzdwvUNJZ",
      "include_colab_link": true
    },
    "kernelspec": {
      "name": "python3",
      "display_name": "Python 3"
    },
    "language_info": {
      "name": "python"
    }
  },
  "cells": [
    {
      "cell_type": "markdown",
      "metadata": {
        "id": "view-in-github",
        "colab_type": "text"
      },
      "source": [
        "<a href=\"https://colab.research.google.com/github/AbrahamKong/CMPE256-ML_Based_Spam_Filter_Assignment/blob/main/CMPE_256_ML_Based_Spam_Filter_Assignment.ipynb\" target=\"_parent\"><img src=\"https://colab.research.google.com/assets/colab-badge.svg\" alt=\"Open In Colab\"/></a>"
      ]
    },
    {
      "cell_type": "code",
      "metadata": {
        "id": "fn4ethilqIhh"
      },
      "source": [
        "# Import neccassary library\n",
        "\n",
        "import pandas as pd\n",
        "import numpy as np\n",
        "from sklearn.feature_extraction.text import TfidfVectorizer\n",
        "from sklearn.model_selection import train_test_split\n",
        "from sklearn.naive_bayes import MultinomialNB"
      ],
      "execution_count": 263,
      "outputs": []
    },
    {
      "cell_type": "code",
      "metadata": {
        "id": "IiYLskC6KjnA"
      },
      "source": [
        "# read in data\n",
        "\n",
        "data = pd.read_csv('/content/data1.csv')"
      ],
      "execution_count": 264,
      "outputs": []
    },
    {
      "cell_type": "code",
      "metadata": {
        "colab": {
          "base_uri": "https://localhost:8080/",
          "height": 202
        },
        "id": "hUFiTFfCK7f_",
        "outputId": "468a14c9-0fb3-4326-ceb4-637122d6b337"
      },
      "source": [
        "data.head()"
      ],
      "execution_count": 265,
      "outputs": [
        {
          "output_type": "execute_result",
          "data": {
            "text/html": [
              "<div>\n",
              "<style scoped>\n",
              "    .dataframe tbody tr th:only-of-type {\n",
              "        vertical-align: middle;\n",
              "    }\n",
              "\n",
              "    .dataframe tbody tr th {\n",
              "        vertical-align: top;\n",
              "    }\n",
              "\n",
              "    .dataframe thead th {\n",
              "        text-align: right;\n",
              "    }\n",
              "</style>\n",
              "<table border=\"1\" class=\"dataframe\">\n",
              "  <thead>\n",
              "    <tr style=\"text-align: right;\">\n",
              "      <th></th>\n",
              "      <th>Spam</th>\n",
              "      <th>Email Content</th>\n",
              "    </tr>\n",
              "  </thead>\n",
              "  <tbody>\n",
              "    <tr>\n",
              "      <th>0</th>\n",
              "      <td>1</td>\n",
              "      <td>Free-Coupons for next movie. The above links w...</td>\n",
              "    </tr>\n",
              "    <tr>\n",
              "      <th>1</th>\n",
              "      <td>1</td>\n",
              "      <td>Free-Coupons for next movie. The above links w...</td>\n",
              "    </tr>\n",
              "    <tr>\n",
              "      <th>2</th>\n",
              "      <td>1</td>\n",
              "      <td>Our records indicate your Pension is under per...</td>\n",
              "    </tr>\n",
              "    <tr>\n",
              "      <th>3</th>\n",
              "      <td>1</td>\n",
              "      <td>Enter to win $25,000 and get a Free Hotel Nigh...</td>\n",
              "    </tr>\n",
              "    <tr>\n",
              "      <th>4</th>\n",
              "      <td>1</td>\n",
              "      <td>Dear recipient, \\nAvangar Technologies announc...</td>\n",
              "    </tr>\n",
              "  </tbody>\n",
              "</table>\n",
              "</div>"
            ],
            "text/plain": [
              "   Spam                                      Email Content\n",
              "0     1  Free-Coupons for next movie. The above links w...\n",
              "1     1  Free-Coupons for next movie. The above links w...\n",
              "2     1  Our records indicate your Pension is under per...\n",
              "3     1  Enter to win $25,000 and get a Free Hotel Nigh...\n",
              "4     1  Dear recipient, \\nAvangar Technologies announc..."
            ]
          },
          "metadata": {},
          "execution_count": 265
        }
      ]
    },
    {
      "cell_type": "code",
      "metadata": {
        "colab": {
          "base_uri": "https://localhost:8080/"
        },
        "id": "C4uIn6Y5LC2-",
        "outputId": "45b633df-eb59-4a35-ce0f-a0903631371c"
      },
      "source": [
        "len(data)"
      ],
      "execution_count": 266,
      "outputs": [
        {
          "output_type": "execute_result",
          "data": {
            "text/plain": [
              "6"
            ]
          },
          "metadata": {},
          "execution_count": 266
        }
      ]
    },
    {
      "cell_type": "code",
      "metadata": {
        "colab": {
          "base_uri": "https://localhost:8080/"
        },
        "id": "uLkoRwkBXcMn",
        "outputId": "c5483b0b-6cce-4722-f6e9-4d9793590db4"
      },
      "source": [
        "# num of spam in the data set\n",
        "\n",
        "len(data['Spam']=='1')"
      ],
      "execution_count": 267,
      "outputs": [
        {
          "output_type": "execute_result",
          "data": {
            "text/plain": [
              "6"
            ]
          },
          "metadata": {},
          "execution_count": 267
        }
      ]
    },
    {
      "cell_type": "code",
      "metadata": {
        "id": "KhnPO3jFLEvj"
      },
      "source": [
        "data_x = data['Email Content']\n",
        "data_y = data['Spam']"
      ],
      "execution_count": 268,
      "outputs": []
    },
    {
      "cell_type": "code",
      "metadata": {
        "id": "3jFgE0cBMhop"
      },
      "source": [
        "# set up Tf-iDf Tokenizer\n",
        "\n",
        "tv = TfidfVectorizer(min_df=1, stop_words='english')"
      ],
      "execution_count": 269,
      "outputs": []
    },
    {
      "cell_type": "code",
      "metadata": {
        "colab": {
          "base_uri": "https://localhost:8080/"
        },
        "id": "HZUslnr1Mk2z",
        "outputId": "b701c878-167f-4b0b-82b3-b5742a837c6a"
      },
      "source": [
        "# split to prep the data\n",
        "\n",
        "x_train, x_test, y_train, y_test = train_test_split(data_x, data_y, test_size=0.2, random_state=4)\n",
        "x_train.head"
      ],
      "execution_count": 270,
      "outputs": [
        {
          "output_type": "execute_result",
          "data": {
            "text/plain": [
              "<bound method NDFrame.head of 3    Enter to win $25,000 and get a Free Hotel Nigh...\n",
              "0    Free-Coupons for next movie. The above links w...\n",
              "1    Free-Coupons for next movie. The above links w...\n",
              "2    Our records indicate your Pension is under per...\n",
              "Name: Email Content, dtype: object>"
            ]
          },
          "metadata": {},
          "execution_count": 270
        }
      ]
    },
    {
      "cell_type": "code",
      "metadata": {
        "id": "QtLsLpTl2VpK"
      },
      "source": [
        "# train from given Spam Dictionary document\n",
        "\n",
        "x_traintv = tv.fit_transform([\"Free\", \"Click here\", \"visit\", \"open attachment\", \"call this number\", \"money\", \"Out\", \"extra\", \"offer\", \"available\", \"Pension\", \"Opportunity\", \"Chance\", \"Investment\", \"Pension\"])"
      ],
      "execution_count": 271,
      "outputs": []
    },
    {
      "cell_type": "code",
      "metadata": {
        "colab": {
          "base_uri": "https://localhost:8080/"
        },
        "id": "pZ8N8bGpNyuA",
        "outputId": "d805bd6e-f91c-4f84-9bd6-91218229d78e"
      },
      "source": [
        "# Show the Tf-iDf\n",
        "\n",
        "x_traintv.toarray()"
      ],
      "execution_count": 272,
      "outputs": [
        {
          "output_type": "execute_result",
          "data": {
            "text/plain": [
              "array([[0.        , 0.        , 0.        , 0.        , 0.        ,\n",
              "        1.        , 0.        , 0.        , 0.        , 0.        ,\n",
              "        0.        , 0.        , 0.        , 0.        ],\n",
              "       [0.        , 0.        , 0.        , 1.        , 0.        ,\n",
              "        0.        , 0.        , 0.        , 0.        , 0.        ,\n",
              "        0.        , 0.        , 0.        , 0.        ],\n",
              "       [0.        , 0.        , 0.        , 0.        , 0.        ,\n",
              "        0.        , 0.        , 0.        , 0.        , 0.        ,\n",
              "        0.        , 0.        , 0.        , 1.        ],\n",
              "       [0.70710678, 0.        , 0.        , 0.        , 0.        ,\n",
              "        0.        , 0.        , 0.        , 0.        , 0.        ,\n",
              "        0.70710678, 0.        , 0.        , 0.        ],\n",
              "       [0.        , 0.        , 0.        , 0.        , 0.        ,\n",
              "        0.        , 0.        , 0.        , 1.        , 0.        ,\n",
              "        0.        , 0.        , 0.        , 0.        ],\n",
              "       [0.        , 0.        , 0.        , 0.        , 0.        ,\n",
              "        0.        , 0.        , 1.        , 0.        , 0.        ,\n",
              "        0.        , 0.        , 0.        , 0.        ],\n",
              "       [0.        , 0.        , 0.        , 0.        , 0.        ,\n",
              "        0.        , 0.        , 0.        , 0.        , 0.        ,\n",
              "        0.        , 0.        , 0.        , 0.        ],\n",
              "       [0.        , 0.        , 0.        , 0.        , 1.        ,\n",
              "        0.        , 0.        , 0.        , 0.        , 0.        ,\n",
              "        0.        , 0.        , 0.        , 0.        ],\n",
              "       [0.        , 0.        , 0.        , 0.        , 0.        ,\n",
              "        0.        , 0.        , 0.        , 0.        , 1.        ,\n",
              "        0.        , 0.        , 0.        , 0.        ],\n",
              "       [0.        , 1.        , 0.        , 0.        , 0.        ,\n",
              "        0.        , 0.        , 0.        , 0.        , 0.        ,\n",
              "        0.        , 0.        , 0.        , 0.        ],\n",
              "       [0.        , 0.        , 0.        , 0.        , 0.        ,\n",
              "        0.        , 0.        , 0.        , 0.        , 0.        ,\n",
              "        0.        , 0.        , 1.        , 0.        ],\n",
              "       [0.        , 0.        , 0.        , 0.        , 0.        ,\n",
              "        0.        , 0.        , 0.        , 0.        , 0.        ,\n",
              "        0.        , 1.        , 0.        , 0.        ],\n",
              "       [0.        , 0.        , 1.        , 0.        , 0.        ,\n",
              "        0.        , 0.        , 0.        , 0.        , 0.        ,\n",
              "        0.        , 0.        , 0.        , 0.        ],\n",
              "       [0.        , 0.        , 0.        , 0.        , 0.        ,\n",
              "        0.        , 1.        , 0.        , 0.        , 0.        ,\n",
              "        0.        , 0.        , 0.        , 0.        ],\n",
              "       [0.        , 0.        , 0.        , 0.        , 0.        ,\n",
              "        0.        , 0.        , 0.        , 0.        , 0.        ,\n",
              "        0.        , 0.        , 1.        , 0.        ]])"
            ]
          },
          "metadata": {},
          "execution_count": 272
        }
      ]
    },
    {
      "cell_type": "code",
      "metadata": {
        "colab": {
          "base_uri": "https://localhost:8080/"
        },
        "id": "12QwBbfiN766",
        "outputId": "c7faabe1-2295-4ffc-ccdd-d89601fefc10"
      },
      "source": [
        "tv.get_feature_names()"
      ],
      "execution_count": 273,
      "outputs": [
        {
          "output_type": "execute_result",
          "data": {
            "text/plain": [
              "['attachment',\n",
              " 'available',\n",
              " 'chance',\n",
              " 'click',\n",
              " 'extra',\n",
              " 'free',\n",
              " 'investment',\n",
              " 'money',\n",
              " 'number',\n",
              " 'offer',\n",
              " 'open',\n",
              " 'opportunity',\n",
              " 'pension',\n",
              " 'visit']"
            ]
          },
          "metadata": {},
          "execution_count": 273
        }
      ]
    },
    {
      "cell_type": "code",
      "metadata": {
        "id": "DyxPdsAf2i3h"
      },
      "source": [
        "tv1 = TfidfVectorizer(min_df=1, stop_words='english')"
      ],
      "execution_count": 274,
      "outputs": []
    },
    {
      "cell_type": "code",
      "metadata": {
        "id": "XqwPOFh62nbj"
      },
      "source": [
        "x_traintv = tv1.fit_transform(x_train)"
      ],
      "execution_count": 275,
      "outputs": []
    },
    {
      "cell_type": "code",
      "metadata": {
        "id": "WuOBQZJIFZWM"
      },
      "source": [
        "a = x_traintv.toarray()"
      ],
      "execution_count": 276,
      "outputs": []
    },
    {
      "cell_type": "code",
      "metadata": {
        "colab": {
          "base_uri": "https://localhost:8080/"
        },
        "id": "LpzZ_vcRFatd",
        "outputId": "229bb0af-b5d6-4cc5-836d-c05d72e8f68e"
      },
      "source": [
        "a"
      ],
      "execution_count": 277,
      "outputs": [
        {
          "output_type": "execute_result",
          "data": {
            "text/plain": [
              "array([[0.36618526, 0.12206175, 0.12206175, 0.09623489, 0.        ,\n",
              "        0.12206175, 0.12206175, 0.        , 0.12206175, 0.12206175,\n",
              "        0.12206175, 0.12206175, 0.        , 0.12206175, 0.12206175,\n",
              "        0.12206175, 0.12206175, 0.12206175, 0.12206175, 0.12206175,\n",
              "        0.12206175, 0.12206175, 0.        , 0.12206175, 0.12206175,\n",
              "        0.12206175, 0.12206175, 0.12206175, 0.12739377, 0.12206175,\n",
              "        0.12206175, 0.        , 0.        , 0.        , 0.12206175,\n",
              "        0.12206175, 0.        , 0.        , 0.12206175, 0.12206175,\n",
              "        0.        , 0.12206175, 0.12206175, 0.        , 0.12206175,\n",
              "        0.12206175, 0.12206175, 0.        , 0.12206175, 0.        ,\n",
              "        0.        , 0.        , 0.        , 0.2441235 , 0.12206175,\n",
              "        0.12206175, 0.        , 0.        , 0.        , 0.        ,\n",
              "        0.12206175, 0.12206175, 0.07791044, 0.12206175, 0.12206175,\n",
              "        0.        , 0.        , 0.12206175, 0.12206175, 0.        ,\n",
              "        0.        , 0.36618526, 0.        , 0.12206175],\n",
              "       [0.        , 0.        , 0.        , 0.        , 0.26637296,\n",
              "        0.        , 0.        , 0.26637296, 0.        , 0.        ,\n",
              "        0.        , 0.        , 0.        , 0.        , 0.        ,\n",
              "        0.        , 0.        , 0.        , 0.        , 0.        ,\n",
              "        0.        , 0.        , 0.26637296, 0.        , 0.        ,\n",
              "        0.        , 0.        , 0.        , 0.17630953, 0.        ,\n",
              "        0.        , 0.26637296, 0.        , 0.        , 0.        ,\n",
              "        0.        , 0.        , 0.26637296, 0.        , 0.        ,\n",
              "        0.26637296, 0.        , 0.        , 0.26637296, 0.        ,\n",
              "        0.        , 0.        , 0.26637296, 0.        , 0.        ,\n",
              "        0.26637296, 0.        , 0.        , 0.        , 0.        ,\n",
              "        0.        , 0.        , 0.        , 0.        , 0.        ,\n",
              "        0.        , 0.        , 0.21565187, 0.        , 0.        ,\n",
              "        0.        , 0.26637296, 0.        , 0.        , 0.26637296,\n",
              "        0.26637296, 0.        , 0.26637296, 0.        ],\n",
              "       [0.        , 0.        , 0.        , 0.        , 0.26637296,\n",
              "        0.        , 0.        , 0.26637296, 0.        , 0.        ,\n",
              "        0.        , 0.        , 0.        , 0.        , 0.        ,\n",
              "        0.        , 0.        , 0.        , 0.        , 0.        ,\n",
              "        0.        , 0.        , 0.26637296, 0.        , 0.        ,\n",
              "        0.        , 0.        , 0.        , 0.17630953, 0.        ,\n",
              "        0.        , 0.26637296, 0.        , 0.        , 0.        ,\n",
              "        0.        , 0.        , 0.26637296, 0.        , 0.        ,\n",
              "        0.26637296, 0.        , 0.        , 0.26637296, 0.        ,\n",
              "        0.        , 0.        , 0.26637296, 0.        , 0.        ,\n",
              "        0.26637296, 0.        , 0.        , 0.        , 0.        ,\n",
              "        0.        , 0.        , 0.        , 0.        , 0.        ,\n",
              "        0.        , 0.        , 0.21565187, 0.        , 0.        ,\n",
              "        0.        , 0.26637296, 0.        , 0.        , 0.26637296,\n",
              "        0.26637296, 0.        , 0.26637296, 0.        ],\n",
              "       [0.        , 0.        , 0.        , 0.18138109, 0.        ,\n",
              "        0.        , 0.        , 0.        , 0.        , 0.        ,\n",
              "        0.        , 0.        , 0.23005891, 0.        , 0.        ,\n",
              "        0.        , 0.        , 0.        , 0.        , 0.        ,\n",
              "        0.        , 0.        , 0.        , 0.        , 0.        ,\n",
              "        0.        , 0.        , 0.        , 0.12005429, 0.        ,\n",
              "        0.        , 0.        , 0.23005891, 0.23005891, 0.        ,\n",
              "        0.        , 0.23005891, 0.        , 0.        , 0.        ,\n",
              "        0.        , 0.        , 0.        , 0.        , 0.        ,\n",
              "        0.        , 0.        , 0.        , 0.        , 0.23005891,\n",
              "        0.        , 0.46011783, 0.23005891, 0.        , 0.        ,\n",
              "        0.        , 0.23005891, 0.23005891, 0.46011783, 0.23005891,\n",
              "        0.        , 0.        , 0.        , 0.        , 0.        ,\n",
              "        0.23005891, 0.        , 0.        , 0.        , 0.        ,\n",
              "        0.        , 0.        , 0.        , 0.        ]])"
            ]
          },
          "metadata": {},
          "execution_count": 277
        }
      ]
    },
    {
      "cell_type": "code",
      "metadata": {
        "colab": {
          "base_uri": "https://localhost:8080/"
        },
        "id": "sWCa5DJ7FmJq",
        "outputId": "254dbc87-5f7a-4bef-9477-c4109ab1098b"
      },
      "source": [
        "tv1.inverse_transform(a[0])"
      ],
      "execution_count": 278,
      "outputs": [
        {
          "output_type": "execute_result",
          "data": {
            "text/plain": [
              "[array(['000', '10', '100', '25', 'animals', 'articles', 'barnyard', 'bmw',\n",
              "        'book', 'business', 'cats', 'chances', 'chocolate', 'choice',\n",
              "        'click', 'company', 'computer', 'convertible', 'cool', 'crazy',\n",
              "        'discount', 'enter', 'ezventure', 'fast', 'free', 'funny', 'gives',\n",
              "        'home', 'hotel', 'internet', 'just', 'membership', 'microsoft',\n",
              "        'nail', 'netmarket', 'night', 'office', 'plus', 'polish', 'prize',\n",
              "        'shares', 'shopping', 'site', 'spremier', 'stock', 'trial',\n",
              "        'trivia', 'win', 'z3'], dtype='<U11')]"
            ]
          },
          "metadata": {},
          "execution_count": 278
        }
      ]
    },
    {
      "cell_type": "code",
      "metadata": {
        "colab": {
          "base_uri": "https://localhost:8080/",
          "height": 142
        },
        "id": "5aXlteBhKESz",
        "outputId": "8633e6c4-a8f9-4a15-9562-d0a5e6df3324"
      },
      "source": [
        "x_train.iloc[0]"
      ],
      "execution_count": 279,
      "outputs": [
        {
          "output_type": "execute_result",
          "data": {
            "application/vnd.google.colaboratory.intrinsic+json": {
              "type": "string"
            },
            "text/plain": [
              "\"Enter to win $25,000 and get a Free Hotel Night! Just click here for a $1 trial membership in NetMarket, the Internet'spremier discount shopping site: \\n  \\n \\nFast Company EZVenture gives you FREE business articles, PLUS, you could win YOUR CHOICE of a BMW Z3 convertible, $100,000, shares of Microsoft stock, or a home office computer. Go there and get your chances to win now. \\nA crazy-funny-cool trivia book with a $10,000 prize? PLUS chocolate, nail polish, cats, barnyard animals, and more? \""
            ]
          },
          "metadata": {},
          "execution_count": 279
        }
      ]
    },
    {
      "cell_type": "code",
      "metadata": {
        "id": "DoRibHYSZLSu"
      },
      "source": [
        "x_testtv = tv1.transform(x_test)"
      ],
      "execution_count": 280,
      "outputs": []
    },
    {
      "cell_type": "code",
      "metadata": {
        "colab": {
          "base_uri": "https://localhost:8080/"
        },
        "id": "-YeIrwIfZHs0",
        "outputId": "cb89c02b-c5cb-4bce-f011-956b36f838e8"
      },
      "source": [
        "x_testtv.toarray()"
      ],
      "execution_count": 281,
      "outputs": [
        {
          "output_type": "execute_result",
          "data": {
            "text/plain": [
              "array([[0.        , 0.        , 0.        , 0.        , 0.        ,\n",
              "        0.        , 0.        , 0.        , 0.        , 0.        ,\n",
              "        0.        , 0.56599407, 0.        , 0.        , 0.        ,\n",
              "        0.        , 0.        , 0.        , 0.56599407, 0.        ,\n",
              "        0.        , 0.        , 0.        , 0.        , 0.        ,\n",
              "        0.        , 0.        , 0.        , 0.        , 0.        ,\n",
              "        0.        , 0.        , 0.28299704, 0.        , 0.28299704,\n",
              "        0.        , 0.        , 0.        , 0.        , 0.        ,\n",
              "        0.        , 0.        , 0.        , 0.        , 0.        ,\n",
              "        0.        , 0.        , 0.        , 0.        , 0.        ,\n",
              "        0.        , 0.        , 0.        , 0.        , 0.        ,\n",
              "        0.        , 0.        , 0.        , 0.        , 0.        ,\n",
              "        0.        , 0.        , 0.        , 0.        , 0.        ,\n",
              "        0.        , 0.        , 0.        , 0.        , 0.        ,\n",
              "        0.        , 0.        , 0.44623623, 0.        ],\n",
              "       [0.        , 0.        , 0.        , 0.        , 0.        ,\n",
              "        0.        , 0.        , 0.        , 0.        , 0.        ,\n",
              "        0.        , 0.84352956, 0.        , 0.        , 0.        ,\n",
              "        0.        , 0.        , 0.        , 0.        , 0.42176478,\n",
              "        0.        , 0.        , 0.        , 0.        , 0.        ,\n",
              "        0.        , 0.        , 0.        , 0.        , 0.        ,\n",
              "        0.        , 0.        , 0.        , 0.        , 0.        ,\n",
              "        0.        , 0.        , 0.        , 0.        , 0.        ,\n",
              "        0.        , 0.        , 0.        , 0.        , 0.        ,\n",
              "        0.        , 0.        , 0.3325242 , 0.        , 0.        ,\n",
              "        0.        , 0.        , 0.        , 0.        , 0.        ,\n",
              "        0.        , 0.        , 0.        , 0.        , 0.        ,\n",
              "        0.        , 0.        , 0.        , 0.        , 0.        ,\n",
              "        0.        , 0.        , 0.        , 0.        , 0.        ,\n",
              "        0.        , 0.        , 0.        , 0.        ]])"
            ]
          },
          "metadata": {},
          "execution_count": 281
        }
      ]
    },
    {
      "cell_type": "code",
      "metadata": {
        "id": "b90OAXp6Sblr"
      },
      "source": [
        "# Set up ML method using MultinomialNB\n",
        "mnb = MultinomialNB()"
      ],
      "execution_count": 282,
      "outputs": []
    },
    {
      "cell_type": "code",
      "metadata": {
        "colab": {
          "base_uri": "https://localhost:8080/"
        },
        "id": "nSzysS5qSb62",
        "outputId": "c33de201-6411-400a-afba-fb27dda95db9"
      },
      "source": [
        "# Set data as integer to fit the method needs\n",
        "\n",
        "y_train = y_train.astype('int')\n",
        "y_train"
      ],
      "execution_count": 283,
      "outputs": [
        {
          "output_type": "execute_result",
          "data": {
            "text/plain": [
              "3    1\n",
              "0    1\n",
              "1    1\n",
              "2    1\n",
              "Name: Spam, dtype: int64"
            ]
          },
          "metadata": {},
          "execution_count": 283
        }
      ]
    },
    {
      "cell_type": "code",
      "metadata": {
        "colab": {
          "base_uri": "https://localhost:8080/"
        },
        "id": "r6Lbnj-vShQF",
        "outputId": "d76fd0d2-4625-462c-e435-7e5d45db5ef4"
      },
      "source": [
        "# Train the data\n",
        "\n",
        "mnb.fit(x_traintv, y_train)"
      ],
      "execution_count": 284,
      "outputs": [
        {
          "output_type": "execute_result",
          "data": {
            "text/plain": [
              "MultinomialNB(alpha=1.0, class_prior=None, fit_prior=True)"
            ]
          },
          "metadata": {},
          "execution_count": 284
        }
      ]
    },
    {
      "cell_type": "code",
      "metadata": {
        "colab": {
          "base_uri": "https://localhost:8080/"
        },
        "id": "cBq3-P8qbfGL",
        "outputId": "44b5a488-b587-4631-a4c4-ee3448c3d71f"
      },
      "source": [
        "# Make predictions\n",
        "\n",
        "predictions=mnb.predict(x_testcv)\n",
        "predictions"
      ],
      "execution_count": 285,
      "outputs": [
        {
          "output_type": "execute_result",
          "data": {
            "text/plain": [
              "array([1, 1])"
            ]
          },
          "metadata": {},
          "execution_count": 285
        }
      ]
    },
    {
      "cell_type": "code",
      "metadata": {
        "colab": {
          "base_uri": "https://localhost:8080/"
        },
        "id": "q8vSDvegbgqg",
        "outputId": "492538d7-3a3c-4c7f-8fcb-4cbb572a470b"
      },
      "source": [
        "actual = np.array(y_test)\n",
        "actual"
      ],
      "execution_count": 286,
      "outputs": [
        {
          "output_type": "execute_result",
          "data": {
            "text/plain": [
              "array([1, 1])"
            ]
          },
          "metadata": {},
          "execution_count": 286
        }
      ]
    },
    {
      "cell_type": "code",
      "metadata": {
        "id": "xHVoZ7ZtbrGk"
      },
      "source": [
        "count=0"
      ],
      "execution_count": 287,
      "outputs": []
    },
    {
      "cell_type": "code",
      "metadata": {
        "id": "WpA4eWLJbuFS"
      },
      "source": [
        "for i in range (len(predictions)):\n",
        "    if predictions[i]==actual[i]:\n",
        "        count=count+1"
      ],
      "execution_count": 290,
      "outputs": []
    },
    {
      "cell_type": "code",
      "metadata": {
        "colab": {
          "base_uri": "https://localhost:8080/"
        },
        "id": "8ieOs7JGbvhY",
        "outputId": "aaa9254e-42cb-4da0-dc94-d6ffe16673d5"
      },
      "source": [
        "count"
      ],
      "execution_count": 291,
      "outputs": [
        {
          "output_type": "execute_result",
          "data": {
            "text/plain": [
              "2"
            ]
          },
          "metadata": {},
          "execution_count": 291
        }
      ]
    },
    {
      "cell_type": "code",
      "metadata": {
        "colab": {
          "base_uri": "https://localhost:8080/"
        },
        "id": "WTQ6pYzQbwlB",
        "outputId": "91868a8c-328f-4af8-ce51-958933c8e125"
      },
      "source": [
        "len(predictions)"
      ],
      "execution_count": 292,
      "outputs": [
        {
          "output_type": "execute_result",
          "data": {
            "text/plain": [
              "2"
            ]
          },
          "metadata": {},
          "execution_count": 292
        }
      ]
    },
    {
      "cell_type": "code",
      "metadata": {
        "colab": {
          "base_uri": "https://localhost:8080/"
        },
        "id": "TrSUrUo0byMP",
        "outputId": "22c32227-ea0e-48c5-fee2-cb98346b9d6c"
      },
      "source": [
        "# Prediction Accuracy Rate\n",
        "# since all the document are spam, it should return 1\n",
        "\n",
        "count / len(predictions)"
      ],
      "execution_count": 293,
      "outputs": [
        {
          "output_type": "execute_result",
          "data": {
            "text/plain": [
              "1.0"
            ]
          },
          "metadata": {},
          "execution_count": 293
        }
      ]
    }
  ]
}