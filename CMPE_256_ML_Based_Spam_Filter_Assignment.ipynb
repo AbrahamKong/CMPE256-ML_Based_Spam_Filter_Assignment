{
  "nbformat": 4,
  "nbformat_minor": 0,
  "metadata": {
    "colab": {
      "name": "CMPE 256 ML Based Spam Filter Assignment.ipynb",
      "provenance": [],
      "authorship_tag": "ABX9TyMmkGRMy9LSGP8+K5OCwEno",
      "include_colab_link": true
    },
    "kernelspec": {
      "name": "python3",
      "display_name": "Python 3"
    },
    "language_info": {
      "name": "python"
    }
  },
  "cells": [
    {
      "cell_type": "markdown",
      "metadata": {
        "id": "view-in-github",
        "colab_type": "text"
      },
      "source": [
        "<a href=\"https://colab.research.google.com/github/AbrahamKong/CMPE256-ML_Based_Spam_Filter_Assignment/blob/main/CMPE_256_ML_Based_Spam_Filter_Assignment.ipynb\" target=\"_parent\"><img src=\"https://colab.research.google.com/assets/colab-badge.svg\" alt=\"Open In Colab\"/></a>"
      ]
    },
    {
      "cell_type": "code",
      "metadata": {
        "id": "fn4ethilqIhh"
      },
      "source": [
        "# Import neccassary library\n",
        "\n",
        "import pandas as pd\n",
        "import numpy as np\n",
        "from sklearn.feature_extraction.text import TfidfVectorizer\n",
        "from sklearn.model_selection import train_test_split\n",
        "from sklearn.naive_bayes import MultinomialNB"
      ],
      "execution_count": 86,
      "outputs": []
    },
    {
      "cell_type": "code",
      "metadata": {
        "id": "IiYLskC6KjnA"
      },
      "source": [
        "\n",
        "\n",
        "df = pd.read_csv('/content/data1.csv')"
      ],
      "execution_count": 87,
      "outputs": []
    },
    {
      "cell_type": "code",
      "metadata": {
        "colab": {
          "base_uri": "https://localhost:8080/",
          "height": 202
        },
        "id": "hUFiTFfCK7f_",
        "outputId": "d6b5895c-ae53-40da-9ebb-c57886f9cfef"
      },
      "source": [
        "df.head()"
      ],
      "execution_count": 88,
      "outputs": [
        {
          "output_type": "execute_result",
          "data": {
            "text/html": [
              "<div>\n",
              "<style scoped>\n",
              "    .dataframe tbody tr th:only-of-type {\n",
              "        vertical-align: middle;\n",
              "    }\n",
              "\n",
              "    .dataframe tbody tr th {\n",
              "        vertical-align: top;\n",
              "    }\n",
              "\n",
              "    .dataframe thead th {\n",
              "        text-align: right;\n",
              "    }\n",
              "</style>\n",
              "<table border=\"1\" class=\"dataframe\">\n",
              "  <thead>\n",
              "    <tr style=\"text-align: right;\">\n",
              "      <th></th>\n",
              "      <th>Email Content</th>\n",
              "      <th>Spam</th>\n",
              "    </tr>\n",
              "  </thead>\n",
              "  <tbody>\n",
              "    <tr>\n",
              "      <th>0</th>\n",
              "      <td>Free-Coupons for next movie. The above links w...</td>\n",
              "      <td>0</td>\n",
              "    </tr>\n",
              "    <tr>\n",
              "      <th>1</th>\n",
              "      <td>Free-Coupons for next movie. The above links w...</td>\n",
              "      <td>0</td>\n",
              "    </tr>\n",
              "    <tr>\n",
              "      <th>2</th>\n",
              "      <td>Our records indicate your Pension is under per...</td>\n",
              "      <td>0</td>\n",
              "    </tr>\n",
              "    <tr>\n",
              "      <th>3</th>\n",
              "      <td>Enter to win $25,000 and get a Free Hotel Nigh...</td>\n",
              "      <td>0</td>\n",
              "    </tr>\n",
              "    <tr>\n",
              "      <th>4</th>\n",
              "      <td>Dear recipient, \\nAvangar Technologies announc...</td>\n",
              "      <td>0</td>\n",
              "    </tr>\n",
              "  </tbody>\n",
              "</table>\n",
              "</div>"
            ],
            "text/plain": [
              "                                       Email Content  Spam\n",
              "0  Free-Coupons for next movie. The above links w...     0\n",
              "1  Free-Coupons for next movie. The above links w...     0\n",
              "2  Our records indicate your Pension is under per...     0\n",
              "3  Enter to win $25,000 and get a Free Hotel Nigh...     0\n",
              "4  Dear recipient, \\nAvangar Technologies announc...     0"
            ]
          },
          "metadata": {},
          "execution_count": 88
        }
      ]
    },
    {
      "cell_type": "code",
      "metadata": {
        "colab": {
          "base_uri": "https://localhost:8080/"
        },
        "id": "C4uIn6Y5LC2-",
        "outputId": "418011bf-f271-4102-d944-9f1b0f0e137d"
      },
      "source": [
        "len(df)"
      ],
      "execution_count": 89,
      "outputs": [
        {
          "output_type": "execute_result",
          "data": {
            "text/plain": [
              "6"
            ]
          },
          "metadata": {},
          "execution_count": 89
        }
      ]
    },
    {
      "cell_type": "code",
      "metadata": {
        "id": "KhnPO3jFLEvj"
      },
      "source": [
        "df_x = df['Email Content']\n",
        "df_y = df['Spam']"
      ],
      "execution_count": 90,
      "outputs": []
    },
    {
      "cell_type": "code",
      "metadata": {
        "id": "3jFgE0cBMhop"
      },
      "source": [
        "cv = TfidfVectorizer(min_df=1, stop_words='english')"
      ],
      "execution_count": 91,
      "outputs": []
    },
    {
      "cell_type": "code",
      "metadata": {
        "id": "HZUslnr1Mk2z"
      },
      "source": [
        "x_train, x_test, y_train, y_test = train_test_split(df_x, df_y, test_size=0.2, random_state=4)"
      ],
      "execution_count": 92,
      "outputs": []
    },
    {
      "cell_type": "code",
      "metadata": {
        "id": "QtLsLpTl2VpK"
      },
      "source": [
        "x_traincv = cv.fit_transform([\"Free\", \"Click here\", \"visit\", \"open attachment\", \"call this number\", \"money\", \"Out\", \"extra\", \"offer\", \"available\", \"Pension\", \"Opportunity\", \"Chance\", \"Investment\", \"Pension\"])"
      ],
      "execution_count": 93,
      "outputs": []
    },
    {
      "cell_type": "code",
      "metadata": {
        "colab": {
          "base_uri": "https://localhost:8080/"
        },
        "id": "pZ8N8bGpNyuA",
        "outputId": "0277db19-5dd8-4255-975b-0937fc8c38c7"
      },
      "source": [
        "# Show the Tf-iDf\n",
        "\n",
        "x_traincv.toarray()"
      ],
      "execution_count": 94,
      "outputs": [
        {
          "output_type": "execute_result",
          "data": {
            "text/plain": [
              "array([[0.        , 0.        , 0.        , 0.        , 0.        ,\n",
              "        1.        , 0.        , 0.        , 0.        , 0.        ,\n",
              "        0.        , 0.        , 0.        , 0.        ],\n",
              "       [0.        , 0.        , 0.        , 1.        , 0.        ,\n",
              "        0.        , 0.        , 0.        , 0.        , 0.        ,\n",
              "        0.        , 0.        , 0.        , 0.        ],\n",
              "       [0.        , 0.        , 0.        , 0.        , 0.        ,\n",
              "        0.        , 0.        , 0.        , 0.        , 0.        ,\n",
              "        0.        , 0.        , 0.        , 1.        ],\n",
              "       [0.70710678, 0.        , 0.        , 0.        , 0.        ,\n",
              "        0.        , 0.        , 0.        , 0.        , 0.        ,\n",
              "        0.70710678, 0.        , 0.        , 0.        ],\n",
              "       [0.        , 0.        , 0.        , 0.        , 0.        ,\n",
              "        0.        , 0.        , 0.        , 1.        , 0.        ,\n",
              "        0.        , 0.        , 0.        , 0.        ],\n",
              "       [0.        , 0.        , 0.        , 0.        , 0.        ,\n",
              "        0.        , 0.        , 1.        , 0.        , 0.        ,\n",
              "        0.        , 0.        , 0.        , 0.        ],\n",
              "       [0.        , 0.        , 0.        , 0.        , 0.        ,\n",
              "        0.        , 0.        , 0.        , 0.        , 0.        ,\n",
              "        0.        , 0.        , 0.        , 0.        ],\n",
              "       [0.        , 0.        , 0.        , 0.        , 1.        ,\n",
              "        0.        , 0.        , 0.        , 0.        , 0.        ,\n",
              "        0.        , 0.        , 0.        , 0.        ],\n",
              "       [0.        , 0.        , 0.        , 0.        , 0.        ,\n",
              "        0.        , 0.        , 0.        , 0.        , 1.        ,\n",
              "        0.        , 0.        , 0.        , 0.        ],\n",
              "       [0.        , 1.        , 0.        , 0.        , 0.        ,\n",
              "        0.        , 0.        , 0.        , 0.        , 0.        ,\n",
              "        0.        , 0.        , 0.        , 0.        ],\n",
              "       [0.        , 0.        , 0.        , 0.        , 0.        ,\n",
              "        0.        , 0.        , 0.        , 0.        , 0.        ,\n",
              "        0.        , 0.        , 1.        , 0.        ],\n",
              "       [0.        , 0.        , 0.        , 0.        , 0.        ,\n",
              "        0.        , 0.        , 0.        , 0.        , 0.        ,\n",
              "        0.        , 1.        , 0.        , 0.        ],\n",
              "       [0.        , 0.        , 1.        , 0.        , 0.        ,\n",
              "        0.        , 0.        , 0.        , 0.        , 0.        ,\n",
              "        0.        , 0.        , 0.        , 0.        ],\n",
              "       [0.        , 0.        , 0.        , 0.        , 0.        ,\n",
              "        0.        , 1.        , 0.        , 0.        , 0.        ,\n",
              "        0.        , 0.        , 0.        , 0.        ],\n",
              "       [0.        , 0.        , 0.        , 0.        , 0.        ,\n",
              "        0.        , 0.        , 0.        , 0.        , 0.        ,\n",
              "        0.        , 0.        , 1.        , 0.        ]])"
            ]
          },
          "metadata": {},
          "execution_count": 94
        }
      ]
    },
    {
      "cell_type": "code",
      "metadata": {
        "colab": {
          "base_uri": "https://localhost:8080/"
        },
        "id": "12QwBbfiN766",
        "outputId": "83888fb4-4498-431b-ff66-d2dcd3801bbe"
      },
      "source": [
        "cv.get_feature_names()"
      ],
      "execution_count": 95,
      "outputs": [
        {
          "output_type": "execute_result",
          "data": {
            "text/plain": [
              "['attachment',\n",
              " 'available',\n",
              " 'chance',\n",
              " 'click',\n",
              " 'extra',\n",
              " 'free',\n",
              " 'investment',\n",
              " 'money',\n",
              " 'number',\n",
              " 'offer',\n",
              " 'open',\n",
              " 'opportunity',\n",
              " 'pension',\n",
              " 'visit']"
            ]
          },
          "metadata": {},
          "execution_count": 95
        }
      ]
    },
    {
      "cell_type": "code",
      "metadata": {
        "id": "DyxPdsAf2i3h"
      },
      "source": [
        "tv1 = TfidfVectorizer(min_df=1, stop_words='english')"
      ],
      "execution_count": 105,
      "outputs": []
    },
    {
      "cell_type": "code",
      "metadata": {
        "id": "XqwPOFh62nbj"
      },
      "source": [
        "x_traincv = tv1.fit_transform(x_train)"
      ],
      "execution_count": 106,
      "outputs": []
    },
    {
      "cell_type": "code",
      "metadata": {
        "id": "WuOBQZJIFZWM"
      },
      "source": [
        "a = x_traincv.toarray()"
      ],
      "execution_count": 107,
      "outputs": []
    },
    {
      "cell_type": "code",
      "metadata": {
        "colab": {
          "base_uri": "https://localhost:8080/"
        },
        "id": "LpzZ_vcRFatd",
        "outputId": "01f6a61f-b62c-420a-9849-ff7297b5e3ab"
      },
      "source": [
        "a"
      ],
      "execution_count": 108,
      "outputs": [
        {
          "output_type": "execute_result",
          "data": {
            "text/plain": [
              "array([[0.36618526, 0.12206175, 0.12206175, 0.09623489, 0.        ,\n",
              "        0.12206175, 0.12206175, 0.        , 0.12206175, 0.12206175,\n",
              "        0.12206175, 0.12206175, 0.        , 0.12206175, 0.12206175,\n",
              "        0.12206175, 0.12206175, 0.12206175, 0.12206175, 0.12206175,\n",
              "        0.12206175, 0.12206175, 0.        , 0.12206175, 0.12206175,\n",
              "        0.12206175, 0.12206175, 0.12206175, 0.12739377, 0.12206175,\n",
              "        0.12206175, 0.        , 0.        , 0.        , 0.12206175,\n",
              "        0.12206175, 0.        , 0.        , 0.12206175, 0.12206175,\n",
              "        0.        , 0.12206175, 0.12206175, 0.        , 0.12206175,\n",
              "        0.12206175, 0.12206175, 0.        , 0.12206175, 0.        ,\n",
              "        0.        , 0.        , 0.        , 0.2441235 , 0.12206175,\n",
              "        0.12206175, 0.        , 0.        , 0.        , 0.        ,\n",
              "        0.12206175, 0.12206175, 0.07791044, 0.12206175, 0.12206175,\n",
              "        0.        , 0.        , 0.12206175, 0.12206175, 0.        ,\n",
              "        0.        , 0.36618526, 0.        , 0.12206175],\n",
              "       [0.        , 0.        , 0.        , 0.        , 0.26637296,\n",
              "        0.        , 0.        , 0.26637296, 0.        , 0.        ,\n",
              "        0.        , 0.        , 0.        , 0.        , 0.        ,\n",
              "        0.        , 0.        , 0.        , 0.        , 0.        ,\n",
              "        0.        , 0.        , 0.26637296, 0.        , 0.        ,\n",
              "        0.        , 0.        , 0.        , 0.17630953, 0.        ,\n",
              "        0.        , 0.26637296, 0.        , 0.        , 0.        ,\n",
              "        0.        , 0.        , 0.26637296, 0.        , 0.        ,\n",
              "        0.26637296, 0.        , 0.        , 0.26637296, 0.        ,\n",
              "        0.        , 0.        , 0.26637296, 0.        , 0.        ,\n",
              "        0.26637296, 0.        , 0.        , 0.        , 0.        ,\n",
              "        0.        , 0.        , 0.        , 0.        , 0.        ,\n",
              "        0.        , 0.        , 0.21565187, 0.        , 0.        ,\n",
              "        0.        , 0.26637296, 0.        , 0.        , 0.26637296,\n",
              "        0.26637296, 0.        , 0.26637296, 0.        ],\n",
              "       [0.        , 0.        , 0.        , 0.        , 0.26637296,\n",
              "        0.        , 0.        , 0.26637296, 0.        , 0.        ,\n",
              "        0.        , 0.        , 0.        , 0.        , 0.        ,\n",
              "        0.        , 0.        , 0.        , 0.        , 0.        ,\n",
              "        0.        , 0.        , 0.26637296, 0.        , 0.        ,\n",
              "        0.        , 0.        , 0.        , 0.17630953, 0.        ,\n",
              "        0.        , 0.26637296, 0.        , 0.        , 0.        ,\n",
              "        0.        , 0.        , 0.26637296, 0.        , 0.        ,\n",
              "        0.26637296, 0.        , 0.        , 0.26637296, 0.        ,\n",
              "        0.        , 0.        , 0.26637296, 0.        , 0.        ,\n",
              "        0.26637296, 0.        , 0.        , 0.        , 0.        ,\n",
              "        0.        , 0.        , 0.        , 0.        , 0.        ,\n",
              "        0.        , 0.        , 0.21565187, 0.        , 0.        ,\n",
              "        0.        , 0.26637296, 0.        , 0.        , 0.26637296,\n",
              "        0.26637296, 0.        , 0.26637296, 0.        ],\n",
              "       [0.        , 0.        , 0.        , 0.18138109, 0.        ,\n",
              "        0.        , 0.        , 0.        , 0.        , 0.        ,\n",
              "        0.        , 0.        , 0.23005891, 0.        , 0.        ,\n",
              "        0.        , 0.        , 0.        , 0.        , 0.        ,\n",
              "        0.        , 0.        , 0.        , 0.        , 0.        ,\n",
              "        0.        , 0.        , 0.        , 0.12005429, 0.        ,\n",
              "        0.        , 0.        , 0.23005891, 0.23005891, 0.        ,\n",
              "        0.        , 0.23005891, 0.        , 0.        , 0.        ,\n",
              "        0.        , 0.        , 0.        , 0.        , 0.        ,\n",
              "        0.        , 0.        , 0.        , 0.        , 0.23005891,\n",
              "        0.        , 0.46011783, 0.23005891, 0.        , 0.        ,\n",
              "        0.        , 0.23005891, 0.23005891, 0.46011783, 0.23005891,\n",
              "        0.        , 0.        , 0.        , 0.        , 0.        ,\n",
              "        0.23005891, 0.        , 0.        , 0.        , 0.        ,\n",
              "        0.        , 0.        , 0.        , 0.        ]])"
            ]
          },
          "metadata": {},
          "execution_count": 108
        }
      ]
    },
    {
      "cell_type": "code",
      "metadata": {
        "colab": {
          "base_uri": "https://localhost:8080/"
        },
        "id": "H7LS3PhiFeyU",
        "outputId": "89a4b4ff-5ff2-4035-bbad-6efa82c96ca5"
      },
      "source": [
        "a[0]"
      ],
      "execution_count": 109,
      "outputs": [
        {
          "output_type": "execute_result",
          "data": {
            "text/plain": [
              "array([0.36618526, 0.12206175, 0.12206175, 0.09623489, 0.        ,\n",
              "       0.12206175, 0.12206175, 0.        , 0.12206175, 0.12206175,\n",
              "       0.12206175, 0.12206175, 0.        , 0.12206175, 0.12206175,\n",
              "       0.12206175, 0.12206175, 0.12206175, 0.12206175, 0.12206175,\n",
              "       0.12206175, 0.12206175, 0.        , 0.12206175, 0.12206175,\n",
              "       0.12206175, 0.12206175, 0.12206175, 0.12739377, 0.12206175,\n",
              "       0.12206175, 0.        , 0.        , 0.        , 0.12206175,\n",
              "       0.12206175, 0.        , 0.        , 0.12206175, 0.12206175,\n",
              "       0.        , 0.12206175, 0.12206175, 0.        , 0.12206175,\n",
              "       0.12206175, 0.12206175, 0.        , 0.12206175, 0.        ,\n",
              "       0.        , 0.        , 0.        , 0.2441235 , 0.12206175,\n",
              "       0.12206175, 0.        , 0.        , 0.        , 0.        ,\n",
              "       0.12206175, 0.12206175, 0.07791044, 0.12206175, 0.12206175,\n",
              "       0.        , 0.        , 0.12206175, 0.12206175, 0.        ,\n",
              "       0.        , 0.36618526, 0.        , 0.12206175])"
            ]
          },
          "metadata": {},
          "execution_count": 109
        }
      ]
    },
    {
      "cell_type": "code",
      "metadata": {
        "colab": {
          "base_uri": "https://localhost:8080/"
        },
        "id": "sWCa5DJ7FmJq",
        "outputId": "d7977f9b-8974-4fdd-b879-8362965b28fe"
      },
      "source": [
        "tv1.inverse_transform(a[0])"
      ],
      "execution_count": 110,
      "outputs": [
        {
          "output_type": "execute_result",
          "data": {
            "text/plain": [
              "[array(['000', '10', '100', '25', 'animals', 'articles', 'barnyard', 'bmw',\n",
              "        'book', 'business', 'cats', 'chances', 'chocolate', 'choice',\n",
              "        'click', 'company', 'computer', 'convertible', 'cool', 'crazy',\n",
              "        'discount', 'enter', 'ezventure', 'fast', 'free', 'funny', 'gives',\n",
              "        'home', 'hotel', 'internet', 'just', 'membership', 'microsoft',\n",
              "        'nail', 'netmarket', 'night', 'office', 'plus', 'polish', 'prize',\n",
              "        'shares', 'shopping', 'site', 'spremier', 'stock', 'trial',\n",
              "        'trivia', 'win', 'z3'], dtype='<U11')]"
            ]
          },
          "metadata": {},
          "execution_count": 110
        }
      ]
    },
    {
      "cell_type": "code",
      "metadata": {
        "colab": {
          "base_uri": "https://localhost:8080/",
          "height": 71
        },
        "id": "5aXlteBhKESz",
        "outputId": "aae8937a-d399-42af-df38-152e79f36198"
      },
      "source": [
        "x_train.iloc[0]"
      ],
      "execution_count": 112,
      "outputs": [
        {
          "output_type": "execute_result",
          "data": {
            "application/vnd.google.colaboratory.intrinsic+json": {
              "type": "string"
            },
            "text/plain": [
              "\"Enter to win $25,000 and get a Free Hotel Night! Just click here for a $1 trial membership in NetMarket, the Internet'spremier discount shopping site: \\n  \\n \\nFast Company EZVenture gives you FREE business articles, PLUS, you could win YOUR CHOICE of a BMW Z3 convertible, $100,000, shares of Microsoft stock, or a home office computer. Go there and get your chances to win now. \\nA crazy-funny-cool trivia book with a $10,000 prize? PLUS chocolate, nail polish, cats, barnyard animals, and more? \""
            ]
          },
          "metadata": {},
          "execution_count": 112
        }
      ]
    },
    {
      "cell_type": "code",
      "metadata": {
        "id": "b90OAXp6Sblr"
      },
      "source": [
        "# Set up ML method using MultinomialNB\n",
        "mnb = MultinomialNB()"
      ],
      "execution_count": 115,
      "outputs": []
    },
    {
      "cell_type": "code",
      "metadata": {
        "id": "nSzysS5qSb62"
      },
      "source": [
        "# Set data as integer to fit the method needs\n",
        "\n",
        "y_train = y_train.astype('int')"
      ],
      "execution_count": 116,
      "outputs": []
    },
    {
      "cell_type": "code",
      "metadata": {
        "colab": {
          "base_uri": "https://localhost:8080/"
        },
        "id": "r6Lbnj-vShQF",
        "outputId": "771d26da-97e9-430d-85a1-3b0398a3324c"
      },
      "source": [
        "# Train the data\n",
        "\n",
        "mnb.fit(x_traincv, y_train)"
      ],
      "execution_count": 118,
      "outputs": [
        {
          "output_type": "execute_result",
          "data": {
            "text/plain": [
              "MultinomialNB(alpha=1.0, class_prior=None, fit_prior=True)"
            ]
          },
          "metadata": {},
          "execution_count": 118
        }
      ]
    },
    {
      "cell_type": "code",
      "metadata": {
        "id": "AG_8iIpvTfM1"
      },
      "source": [
        "# Extract Tf-iDf feature to data\n",
        "\n",
        "x_testcv = cv1.transform(x_train)"
      ],
      "execution_count": 119,
      "outputs": []
    },
    {
      "cell_type": "code",
      "metadata": {
        "id": "XJ15vmkiUEf_"
      },
      "source": [
        ""
      ],
      "execution_count": null,
      "outputs": []
    }
  ]
}